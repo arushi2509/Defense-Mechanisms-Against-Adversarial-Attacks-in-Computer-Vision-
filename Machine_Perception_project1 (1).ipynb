{
  "cells": [
    {
      "cell_type": "code",
      "execution_count": null,
      "metadata": {
        "id": "gOb05xDs84gA"
      },
      "outputs": [],
      "source": [
        "import numpy as np\n",
        "import torch\n",
        "import torch.nn as nn\n",
        "\n",
        "import torchvision\n",
        "import torchvision.transforms as transforms\n",
        "from torchvision import models\n",
        "import torch.optim as optim\n",
        "from torch.optim import lr_scheduler\n",
        "import matplotlib.pyplot as plt\n",
        "from torch.autograd import Variable\n",
        "\n",
        "import time\n",
        "import os\n",
        "import copy"
      ]
    },
    {
      "cell_type": "code",
      "execution_count": null,
      "metadata": {
        "colab": {
          "base_uri": "https://localhost:8080/"
        },
        "id": "0fgcIshYhHdU",
        "outputId": "a89eb9e0-abbe-483c-9eef-15e6b08ee0cb"
      },
      "outputs": [
        {
          "output_type": "stream",
          "name": "stdout",
          "text": [
            "Mounted at /content/drive\n"
          ]
        }
      ],
      "source": [
        "from google.colab import drive\n",
        "drive.mount('/content/drive')"
      ]
    },
    {
      "cell_type": "code",
      "execution_count": null,
      "metadata": {
        "colab": {
          "base_uri": "https://localhost:8080/",
          "height": 101,
          "referenced_widgets": [
            "d20c4b1287a8416fbf8ca7ab81384b1f",
            "8b05b3af46c543188cd694c6fa5553aa",
            "f1c0f1bbd0f74c158a0a0b406f2d66bd",
            "41481f7df06449ad92077a7e9261311f",
            "99319b46aa344272aa723c797376cfb5",
            "5ade711337c14b2c86c1b9a8a2271ffb",
            "27bcc3eb48a74a0da960ede1dad54410",
            "5bd59ece4a7140078ad0cebb5ce0c0c8",
            "c75be932a9994589a88fc1553033ce30",
            "c2c3de25453544ffb692bcc60f6ea304",
            "bfcb8292d68f49228e55d9e28e1fbba3"
          ]
        },
        "id": "cC1XfhlF9mmD",
        "outputId": "75cf4f8d-792d-4e9e-e25c-d87090a17e37"
      },
      "outputs": [
        {
          "output_type": "stream",
          "name": "stdout",
          "text": [
            "Downloading https://www.cs.toronto.edu/~kriz/cifar-10-python.tar.gz to ./data/cifar-10-python.tar.gz\n"
          ]
        },
        {
          "output_type": "display_data",
          "data": {
            "text/plain": [
              "  0%|          | 0/170498071 [00:00<?, ?it/s]"
            ],
            "application/vnd.jupyter.widget-view+json": {
              "version_major": 2,
              "version_minor": 0,
              "model_id": "d20c4b1287a8416fbf8ca7ab81384b1f"
            }
          },
          "metadata": {}
        },
        {
          "output_type": "stream",
          "name": "stdout",
          "text": [
            "Extracting ./data/cifar-10-python.tar.gz to ./data\n",
            "Files already downloaded and verified\n"
          ]
        }
      ],
      "source": [
        "#loading the train and test sets of CIFAR 10 and normalizing them\n",
        "transform = transforms.Compose(\n",
        "    [transforms.ToTensor(),\n",
        "    transforms.Normalize([0.485, 0.456, 0.406], [0.229, 0.224, 0.225])])\n",
        "\n",
        "batch_size = 32\n",
        "\n",
        "trainset = torchvision.datasets.CIFAR10(root='./data', train=True,\n",
        "                                        download=True, transform=transform)\n",
        "trainloader = torch.utils.data.DataLoader(trainset, batch_size=batch_size,\n",
        "                                          shuffle=True, num_workers=2)\n",
        "\n",
        "testset = torchvision.datasets.CIFAR10(root='./data', train=False,\n",
        "                                       download=True, transform=transform)\n",
        "testloader = torch.utils.data.DataLoader(testset, batch_size=batch_size,\n",
        "                                         shuffle=False, num_workers=2)\n",
        "\n",
        "classes = ('plane', 'car', 'bird', 'cat',\n",
        "           'deer', 'dog', 'frog', 'horse', 'ship', 'truck')"
      ]
    },
    {
      "cell_type": "code",
      "source": [
        "def gaussian(ins, mean=0, stddev=0.09):\n",
        "    noise = Variable(ins.data.new(ins.size()).normal_(mean, stddev))\n",
        "    return ins + noise"
      ],
      "metadata": {
        "id": "G6pXT_x7cukI"
      },
      "execution_count": null,
      "outputs": []
    },
    {
      "cell_type": "code",
      "source": [
        "#Adding gaussian noise as a blackbox adversarial attack. We will be adding this to the test set as well to show reduced performance and thus, effectiveness of the model\n",
        "transform_defense = transforms.Compose(\n",
        "    [transforms.ToTensor(),\n",
        "     gaussian,\n",
        "    transforms.Normalize([0.485, 0.456, 0.406], [0.229, 0.224, 0.225])\n",
        "     ])\n",
        "\n",
        "batch_size = 32\n",
        "\n",
        "trainset_defense = torchvision.datasets.CIFAR10(root='./data', train=True,\n",
        "                                        download=True, transform=transform_defense)\n",
        "trainloader_defense = torch.utils.data.DataLoader(trainset_defense, batch_size=batch_size,\n",
        "                                          shuffle=True, num_workers=2)\n",
        "\n",
        "testset_defense = torchvision.datasets.CIFAR10(root='./data', train=False,\n",
        "                                       download=True, transform=transform_defense)\n",
        "testloader_defense = torch.utils.data.DataLoader(testset_defense, batch_size=batch_size,\n",
        "                                         shuffle=False, num_workers=2)\n",
        "\n",
        "classes = ('plane', 'car', 'bird', 'cat',\n",
        "           'deer', 'dog', 'frog', 'horse', 'ship', 'truck')"
      ],
      "metadata": {
        "colab": {
          "base_uri": "https://localhost:8080/"
        },
        "id": "1FlGSBFbL8PU",
        "outputId": "99f801db-2974-410f-f028-254e997d49dc"
      },
      "execution_count": null,
      "outputs": [
        {
          "output_type": "stream",
          "name": "stdout",
          "text": [
            "Files already downloaded and verified\n",
            "Files already downloaded and verified\n"
          ]
        }
      ]
    },
    {
      "cell_type": "code",
      "execution_count": null,
      "metadata": {
        "colab": {
          "base_uri": "https://localhost:8080/",
          "height": 275
        },
        "id": "dr2bhHuLVl_k",
        "outputId": "7523326e-3035-410e-da37-cb6b8cd0c90b"
      },
      "outputs": [
        {
          "output_type": "stream",
          "name": "stderr",
          "text": [
            "WARNING:matplotlib.image:Clipping input data to the valid range for imshow with RGB data ([0..1] for floats or [0..255] for integers).\n"
          ]
        },
        {
          "output_type": "display_data",
          "data": {
            "text/plain": [
              "<Figure size 432x288 with 1 Axes>"
            ],
            "image/png": "[encoded data removed]"
          },
          "metadata": {
            "needs_background": "light"
          }
        },
        {
          "output_type": "stream",
          "name": "stdout",
          "text": [
            "dog   deer  dog   deer  plane truck deer  cat   ship  deer  dog   ship  dog   cat   bird  plane horse frog  car   bird  deer  car   dog   plane frog  plane plane dog   dog   ship  bird  frog \n"
          ]
        }
      ],
      "source": [
        "import matplotlib.pyplot as plt\n",
        "import numpy as np\n",
        "\n",
        "# functions to show an image\n",
        "\n",
        "\n",
        "def imshow(img,means,vars):\n",
        "    img = (img * vars) + means     # unnormalize\n",
        "    npimg = img.numpy()\n",
        "    # print(npimg)\n",
        "    plt.imshow(np.transpose(npimg, (1, 2, 0)))\n",
        "    plt.show()\n",
        "\n",
        "\n",
        "# # get some random training images\n",
        "dataiter = iter(trainloader_defense)\n",
        "images, labels = next(dataiter)\n",
        "\n",
        "# show images\n",
        "means = torch.tensor([0.485, 0.456, 0.406]).view((3,1,1))\n",
        "vars = torch.tensor([0.229, 0.224, 0.225]).view((3,1,1))\n",
        "imshow(torchvision.utils.make_grid(images),means,vars)\n",
        "# print labels\n",
        "print(' '.join(f'{classes[labels[j]]:5s}' for j in range(batch_size)))"
      ]
    },
    {
      "cell_type": "code",
      "execution_count": null,
      "metadata": {
        "colab": {
          "base_uri": "https://localhost:8080/"
        },
        "id": "Rf6XRZxYB_zS",
        "outputId": "dcd0ef42-af59-41b2-b959-2529f0a2a999"
      },
      "outputs": [
        {
          "output_type": "stream",
          "name": "stdout",
          "text": [
            "cuda:0\n"
          ]
        }
      ],
      "source": [
        "device = torch.device(\"cuda:0\" if torch.cuda.is_available() else \"cpu\")\n",
        "print(device)"
      ]
    },
    {
      "cell_type": "code",
      "execution_count": null,
      "metadata": {
        "colab": {
          "base_uri": "https://localhost:8080/",
          "height": 156,
          "referenced_widgets": [
            "c97b297c5d854418a4db0f474086e3b3",
            "8a2d224584344e948b518a9c35af02da",
            "dde9c0176b3640e59479ff78c5f055cf",
            "e71a73c94d9b4139b2078293d9286d3d",
            "9d803e96a7d8438a95959349b1cc29a5",
            "10ec61c22bbd4fafa32727fd69ff7d94",
            "bed99b4f354944e69186385e248a809e",
            "fb0aa2852a5046c19c6202c2e817caf0",
            "7fd441122d244991ba1af54ffafce42a",
            "742849e4c48445e08a3394a40131a256",
            "f4aa545f924f4a878692f26eee441a33"
          ]
        },
        "id": "l6WwhqR9Be4Y",
        "outputId": "04b31c10-2b86-4476-a568-06de9ffce9d4"
      },
      "outputs": [
        {
          "output_type": "stream",
          "name": "stderr",
          "text": [
            "/usr/local/lib/python3.7/dist-packages/torchvision/models/_utils.py:209: UserWarning: The parameter 'pretrained' is deprecated since 0.13 and will be removed in 0.15, please use 'weights' instead.\n",
            "  f\"The parameter '{pretrained_param}' is deprecated since 0.13 and will be removed in 0.15, \"\n",
            "/usr/local/lib/python3.7/dist-packages/torchvision/models/_utils.py:223: UserWarning: Arguments other than a weight enum or `None` for 'weights' are deprecated since 0.13 and will be removed in 0.15. The current behavior is equivalent to passing `weights=ResNet18_Weights.IMAGENET1K_V1`. You can also use `weights=ResNet18_Weights.DEFAULT` to get the most up-to-date weights.\n",
            "  warnings.warn(msg)\n",
            "Downloading: \"https://download.pytorch.org/models/resnet18-f37072fd.pth\" to /root/.cache/torch/hub/checkpoints/resnet18-f37072fd.pth\n"
          ]
        },
        {
          "output_type": "display_data",
          "data": {
            "text/plain": [
              "  0%|          | 0.00/44.7M [00:00<?, ?B/s]"
            ],
            "application/vnd.jupyter.widget-view+json": {
              "version_major": 2,
              "version_minor": 0,
              "model_id": "c97b297c5d854418a4db0f474086e3b3"
            }
          },
          "metadata": {}
        }
      ],
      "source": [
        "#define the resnet 18 model\n",
        "model_ft = models.resnet18(pretrained=True)\n",
        "num_ftrs = model_ft.fc.in_features\n",
        "# Here the size of each output sample is set to 2.\n",
        "# Alternatively, it can be generalized to nn.Linear(num_ftrs, len(class_names)).\n",
        "model_ft.fc = nn.Linear(num_ftrs, 10)\n",
        "model_ft = model_ft.to(device)\n",
        "criterion = nn.CrossEntropyLoss()\n",
        "\n",
        "# Observe that all parameters are being optimized\n",
        "optimizer = optim.SGD(model_ft.parameters(), lr=0.001, momentum=0.9)"
      ]
    },
    {
      "cell_type": "code",
      "execution_count": null,
      "metadata": {
        "colab": {
          "base_uri": "https://localhost:8080/"
        },
        "id": "FlmcukJmEp4y",
        "outputId": "a3b7b80f-c89f-410c-9f48-388be7d45832"
      },
      "outputs": [
        {
          "name": "stdout",
          "output_type": "stream",
          "text": [
            "[1,   200] loss: 1.581\n",
            "[1,   400] loss: 1.169\n",
            "[1,   600] loss: 1.009\n",
            "[1,   800] loss: 0.931\n",
            "[1,  1000] loss: 0.908\n",
            "[1,  1200] loss: 0.875\n",
            "[1,  1400] loss: 0.817\n",
            "[2,   200] loss: 0.655\n",
            "[2,   400] loss: 0.672\n",
            "[2,   600] loss: 0.644\n",
            "[2,   800] loss: 0.636\n",
            "[2,  1000] loss: 0.653\n",
            "[2,  1200] loss: 0.616\n",
            "[2,  1400] loss: 0.621\n",
            "[3,   200] loss: 0.509\n",
            "[3,   400] loss: 0.488\n",
            "[3,   600] loss: 0.523\n",
            "[3,   800] loss: 0.498\n",
            "[3,  1000] loss: 0.491\n",
            "[3,  1200] loss: 0.511\n",
            "[3,  1400] loss: 0.519\n",
            "[4,   200] loss: 0.395\n",
            "[4,   400] loss: 0.420\n",
            "[4,   600] loss: 0.389\n",
            "[4,   800] loss: 0.406\n",
            "[4,  1000] loss: 0.426\n",
            "[4,  1200] loss: 0.421\n",
            "[4,  1400] loss: 0.410\n",
            "[5,   200] loss: 0.312\n",
            "[5,   400] loss: 0.325\n",
            "[5,   600] loss: 0.326\n",
            "[5,   800] loss: 0.347\n",
            "[5,  1000] loss: 0.321\n",
            "[5,  1200] loss: 0.369\n",
            "[5,  1400] loss: 0.355\n",
            "[6,   200] loss: 0.258\n",
            "[6,   400] loss: 0.263\n",
            "[6,   600] loss: 0.264\n",
            "[6,   800] loss: 0.291\n",
            "[6,  1000] loss: 0.295\n",
            "[6,  1200] loss: 0.287\n",
            "[6,  1400] loss: 0.285\n",
            "[7,   200] loss: 0.201\n",
            "[7,   400] loss: 0.221\n",
            "[7,   600] loss: 0.230\n",
            "[7,   800] loss: 0.230\n",
            "[7,  1000] loss: 0.234\n",
            "[7,  1200] loss: 0.239\n",
            "[7,  1400] loss: 0.253\n",
            "[8,   200] loss: 0.166\n",
            "[8,   400] loss: 0.180\n",
            "[8,   600] loss: 0.181\n",
            "[8,   800] loss: 0.195\n",
            "[8,  1000] loss: 0.184\n",
            "[8,  1200] loss: 0.211\n",
            "[8,  1400] loss: 0.209\n",
            "[9,   200] loss: 0.151\n",
            "[9,   400] loss: 0.158\n",
            "[9,   600] loss: 0.166\n",
            "[9,   800] loss: 0.155\n",
            "[9,  1000] loss: 0.167\n",
            "[9,  1200] loss: 0.178\n",
            "[9,  1400] loss: 0.183\n",
            "[10,   200] loss: 0.134\n",
            "[10,   400] loss: 0.118\n",
            "[10,   600] loss: 0.120\n",
            "[10,   800] loss: 0.131\n",
            "[10,  1000] loss: 0.152\n",
            "[10,  1200] loss: 0.143\n",
            "[10,  1400] loss: 0.164\n",
            "Finished Training\n"
          ]
        }
      ],
      "source": [
        "# training loop. We use the minibatch gradient descent with momentum \n",
        "for epoch in range(10):  # loop over the dataset multiple times\n",
        "\n",
        "    running_loss = 0.0\n",
        "    for i, data in enumerate(trainloader, 0):\n",
        "        # get the inputs; data is a list of [inputs, labels]\n",
        "        inputs, labels = data\n",
        "        inputs = inputs.to(device)\n",
        "        labels = labels.to(device)\n",
        "\n",
        "        # zero the parameter gradients\n",
        "        optimizer.zero_grad()\n",
        "\n",
        "        # forward + backward + optimize\n",
        "        outputs = model_ft(inputs)\n",
        "        loss = criterion(outputs, labels)\n",
        "        loss.backward()\n",
        "        optimizer.step()\n",
        "\n",
        "        # print statistics\n",
        "        running_loss += loss.item()\n",
        "        if i % 200 == 199:    # print every 2000 mini-batches\n",
        "            print(f'[{epoch + 1}, {i + 1:5d}] loss: {running_loss / 200:.3f}')\n",
        "            running_loss = 0.0\n",
        "\n",
        "print('Finished Training')"
      ]
    },
    {
      "cell_type": "code",
      "execution_count": null,
      "metadata": {
        "id": "tsUA3e5ZXLZ_"
      },
      "outputs": [],
      "source": [
        "# PATH = './cifar_net.pth'\n",
        "# torch.save(model_ft.state_dict(), PATH)"
      ]
    },
    {
      "cell_type": "code",
      "execution_count": null,
      "metadata": {
        "colab": {
          "base_uri": "https://localhost:8080/"
        },
        "id": "936txIhTX3a8",
        "outputId": "70608e28-865f-4bd4-c0d9-f6bab403cab0"
      },
      "outputs": [
        {
          "output_type": "execute_result",
          "data": {
            "text/plain": [
              "<All keys matched successfully>"
            ]
          },
          "metadata": {},
          "execution_count": 24
        }
      ],
      "source": [
        "#model_ft.load_state_dict(torch.load(\"/content/drive/MyDrive/cifar_net.pth\",map_location=device))"
      ]
    },
    {
      "cell_type": "code",
      "execution_count": null,
      "metadata": {
        "colab": {
          "base_uri": "https://localhost:8080/"
        },
        "id": "zcgAscUAboRF",
        "outputId": "2e55c052-f4b8-4c6b-a4f5-837dd5544cb2"
      },
      "outputs": [
        {
          "output_type": "stream",
          "name": "stdout",
          "text": [
            "Accuracy of the network on the 50K train images: 95 %\n"
          ]
        }
      ],
      "source": [
        "#accuracy on the train set\n",
        "correct = 0\n",
        "total = 0\n",
        "all_train_X = []\n",
        "all_train_labels = []\n",
        "# since we're not training, we don't need to calculate the gradients for our outputs\n",
        "with torch.no_grad():\n",
        "    for data in trainloader:\n",
        "        images, labels = data\n",
        "        images = images.to(device)\n",
        "        # calculate outputs by running images through the network\n",
        "        outputs = model_ft(images)\n",
        "        # the class with the highest energy is what we choose as prediction\n",
        "        _, predicted = torch.max(outputs.data, 1)\n",
        "        total += labels.size(0)\n",
        "        predicted = predicted.cpu()\n",
        "        correct += (predicted == labels).sum().item()\n",
        "\n",
        "print(f'Accuracy of the network on the 50K train images: {100 * correct // total} %')"
      ]
    },
    {
      "cell_type": "code",
      "execution_count": null,
      "metadata": {
        "id": "6c_DX_cdbb3k"
      },
      "outputs": [],
      "source": [
        "all_train_X = []\n",
        "all_train_labels = []\n",
        "with torch.no_grad():\n",
        "    for data in trainloader:\n",
        "        images, labels = data\n",
        "        all_train_X.append(images)\n",
        "        all_train_labels.append(labels)"
      ]
    },
    {
      "cell_type": "code",
      "execution_count": null,
      "metadata": {
        "colab": {
          "base_uri": "https://localhost:8080/"
        },
        "id": "u1_vTXJFbrp7",
        "outputId": "d30c1be8-924b-43a2-d5ab-c141fdbd2fd9"
      },
      "outputs": [
        {
          "name": "stdout",
          "output_type": "stream",
          "text": [
            "torch.Size([50000, 3, 32, 32])\n"
          ]
        }
      ],
      "source": [
        "all_train_X = torch.cat(all_train_X, axis=0)\n",
        "# print(all_train_X.shape)"
      ]
    },
    {
      "cell_type": "code",
      "execution_count": null,
      "metadata": {
        "colab": {
          "base_uri": "https://localhost:8080/"
        },
        "id": "p4GmQqqwdNmF",
        "outputId": "0b52af70-fe8a-4183-824c-826f978d79e5"
      },
      "outputs": [
        {
          "name": "stdout",
          "output_type": "stream",
          "text": [
            "torch.Size([50000])\n"
          ]
        }
      ],
      "source": [
        "all_train_labels = torch.cat(all_train_labels)\n",
        "# print(all_train_labels.shape)"
      ]
    },
    {
      "cell_type": "code",
      "execution_count": null,
      "metadata": {
        "colab": {
          "base_uri": "https://localhost:8080/"
        },
        "id": "iaCqjeIgGBZk",
        "outputId": "f8c4b157-9c2c-474f-e491-6064c5377ba9"
      },
      "outputs": [
        {
          "output_type": "stream",
          "name": "stdout",
          "text": [
            "Accuracy of the network on the 10000 test images: 79 %\n"
          ]
        }
      ],
      "source": [
        "#performance on the test set\n",
        "correct = 0\n",
        "total = 0\n",
        "# since we're not training, we don't need to calculate the gradients for our outputs\n",
        "with torch.no_grad():\n",
        "    for data in testloader:\n",
        "        images, labels = data\n",
        "        images = images.to(device)\n",
        "        # calculate outputs by running images through the network\n",
        "        outputs = model_ft(images)\n",
        "        # the class with the highest energy is what we choose as prediction\n",
        "        _, predicted = torch.max(outputs.data, 1)\n",
        "        total += labels.size(0)\n",
        "        predicted = predicted.cpu()\n",
        "        correct += (predicted == labels).sum().item()\n",
        "\n",
        "print(f'Accuracy of the network on the 10000 test images: {100 * correct // total} %')"
      ]
    },
    {
      "cell_type": "code",
      "source": [
        "model_ft = model_ft.to(device)"
      ],
      "metadata": {
        "id": "bhTwGNz8kY_C"
      },
      "execution_count": null,
      "outputs": []
    },
    {
      "cell_type": "code",
      "source": [
        "#performance on the adversarial test set, drop in accuracy by 6%\n",
        "correct = 0\n",
        "total = 0\n",
        "# since we're not training, we don't need to calculate the gradients for our outputs\n",
        "with torch.no_grad():\n",
        "    for data in testloader_defense:\n",
        "        images, labels = data\n",
        "        images = images.to(device)\n",
        "        # calculate outputs by running images through the network\n",
        "        outputs = model_ft(images)\n",
        "        # the class with the highest energy is what we choose as prediction\n",
        "        _, predicted = torch.max(outputs.data, 1)\n",
        "        total += labels.size(0)\n",
        "        predicted = predicted.cpu()\n",
        "        correct += (predicted == labels).sum().item()\n",
        "\n",
        "print(f'Accuracy of the network on the 10000 test images: {100 * correct // total} %')"
      ],
      "metadata": {
        "colab": {
          "base_uri": "https://localhost:8080/"
        },
        "id": "Nm8PoEnQewmI",
        "outputId": "2f99c778-088a-423e-b187-fd75c2a864d5"
      },
      "execution_count": null,
      "outputs": [
        {
          "output_type": "stream",
          "name": "stdout",
          "text": [
            "Accuracy of the network on the 10000 test images: 72 %\n"
          ]
        }
      ]
    },
    {
      "cell_type": "code",
      "execution_count": null,
      "metadata": {
        "id": "7xnfSRjXbjXC"
      },
      "outputs": [],
      "source": [
        "all_test_X = []\n",
        "all_test_labels = []\n",
        "with torch.no_grad():\n",
        "    for data in testloader:\n",
        "        images, labels = data\n",
        "        all_test_X.append(images)\n",
        "        all_test_labels.append(labels)"
      ]
    },
    {
      "cell_type": "code",
      "source": [
        "all_adv_test_X = []\n",
        "all_adv_test_labels = []\n",
        "with torch.no_grad():\n",
        "    for data in testloader_defense:\n",
        "        images, labels = data\n",
        "        all_adv_test_X.append(images)\n",
        "        all_adv_test_labels.append(labels)"
      ],
      "metadata": {
        "id": "0SBIQgtEz0zu"
      },
      "execution_count": null,
      "outputs": []
    },
    {
      "cell_type": "code",
      "execution_count": null,
      "metadata": {
        "colab": {
          "base_uri": "https://localhost:8080/"
        },
        "id": "5iK6Bu1Ab1UH",
        "outputId": "b48d4a65-3c74-4da9-8d39-7d95c2edb1e3"
      },
      "outputs": [
        {
          "name": "stdout",
          "output_type": "stream",
          "text": [
            "torch.Size([10000, 3, 32, 32])\n"
          ]
        }
      ],
      "source": [
        "all_test_X = torch.cat(all_test_X, axis=0)\n",
        "# print(all_test_X.shape)"
      ]
    },
    {
      "cell_type": "code",
      "execution_count": null,
      "metadata": {
        "colab": {
          "base_uri": "https://localhost:8080/"
        },
        "id": "TWQGAG0dda6z",
        "outputId": "39e7ac90-6773-484c-b9c3-919e2f2d8051"
      },
      "outputs": [
        {
          "name": "stdout",
          "output_type": "stream",
          "text": [
            "torch.Size([10000])\n"
          ]
        }
      ],
      "source": [
        "all_test_labels = torch.cat(all_test_labels)\n",
        "# print(all_test_labels.shape)"
      ]
    },
    {
      "cell_type": "code",
      "source": [
        "# all_train_X = np.load(\"/content/drive/MyDrive/Machine Perception Projects/all_train.npy\")\n",
        "# all_train_labels = np.load(\"/content/drive/MyDrive/Machine Perception Projects/all_train_labels.npy\")\n",
        "# all_test_X = np.load(\"/content/drive/MyDrive/Machine Perception Projects/all_test.npy\")\n",
        "# all_test_labels = np.load(\"/content/drive/MyDrive/Machine Perception Projects/all_test_labels.npy\")"
      ],
      "metadata": {
        "id": "GaO6YGvSAWvn"
      },
      "execution_count": null,
      "outputs": []
    },
    {
      "cell_type": "code",
      "source": [
        "# all_train_X = torch.tensor(all_train_X)\n",
        "# all_train_labels = torch.tensor(all_train_labels)\n",
        "# all_test_X = torch.tensor(all_test_X)\n",
        "# all_test_labels = torch.tensor(all_test_labels)"
      ],
      "metadata": {
        "id": "j5ZglCNHBddJ"
      },
      "execution_count": null,
      "outputs": []
    },
    {
      "cell_type": "code",
      "execution_count": null,
      "metadata": {
        "id": "PWD85pNgWXqA"
      },
      "outputs": [],
      "source": [
        "# # prepare to count predictions for each class\n",
        "# correct_pred = {classname: 0 for classname in classes}\n",
        "# total_pred = {classname: 0 for classname in classes}\n",
        "\n",
        "# # again no gradients needed\n",
        "# with torch.no_grad():\n",
        "#     for data in testloader:\n",
        "#         images, labels = data\n",
        "#         outputs = net(images)\n",
        "#         _, predictions = torch.max(outputs, 1)\n",
        "#         # collect the correct predictions for each class\n",
        "#         for label, prediction in zip(labels, predictions):\n",
        "#             if label == prediction:\n",
        "#                 correct_pred[classes[label]] += 1\n",
        "#             total_pred[classes[label]] += 1\n",
        "\n",
        "\n",
        "# # print accuracy for each class\n",
        "# for classname, correct_count in correct_pred.items():\n",
        "#     accuracy = 100 * float(correct_count) / total_pred[classname]\n",
        "#     print(f'Accuracy for class: {classname:5s} is {accuracy:.1f} %')"
      ]
    },
    {
      "cell_type": "markdown",
      "metadata": {
        "id": "G1LpIopZi0bG"
      },
      "source": [
        "Adevrsarial Attack Generation"
      ]
    },
    {
      "cell_type": "code",
      "execution_count": null,
      "metadata": {
        "colab": {
          "base_uri": "https://localhost:8080/",
          "height": 641
        },
        "id": "LgMJ17zBWnND",
        "outputId": "41bb8a70-ce94-4274-bbd1-3ab7cf3322b4"
      },
      "outputs": [
        {
          "output_type": "stream",
          "name": "stdout",
          "text": [
            "Looking in indexes: https://pypi.org/simple, https://us-python.pkg.dev/colab-wheels/public/simple/\n",
            "Collecting foolbox\n",
            "  Downloading foolbox-3.3.3-py3-none-any.whl (1.7 MB)\n",
            "\u001b[K     |████████████████████████████████| 1.7 MB 30.3 MB/s \n",
            "\u001b[?25hRequirement already satisfied: scipy in /usr/local/lib/python3.7/dist-packages (from foolbox) (1.7.3)\n",
            "Collecting GitPython>=3.0.7\n",
            "  Downloading GitPython-3.1.29-py3-none-any.whl (182 kB)\n",
            "\u001b[K     |████████████████████████████████| 182 kB 72.4 MB/s \n",
            "\u001b[?25hCollecting requests>=2.24.0\n",
            "  Downloading requests-2.28.1-py3-none-any.whl (62 kB)\n",
            "\u001b[K     |████████████████████████████████| 62 kB 1.9 MB/s \n",
            "\u001b[?25hRequirement already satisfied: typing-extensions>=3.7.4.1 in /usr/local/lib/python3.7/dist-packages (from foolbox) (4.1.1)\n",
            "Requirement already satisfied: numpy in /usr/local/lib/python3.7/dist-packages (from foolbox) (1.21.6)\n",
            "Collecting eagerpy>=0.30.0\n",
            "  Downloading eagerpy-0.30.0-py3-none-any.whl (31 kB)\n",
            "Requirement already satisfied: setuptools in /usr/local/lib/python3.7/dist-packages (from foolbox) (57.4.0)\n",
            "Collecting gitdb<5,>=4.0.1\n",
            "  Downloading gitdb-4.0.9-py3-none-any.whl (63 kB)\n",
            "\u001b[K     |████████████████████████████████| 63 kB 2.0 MB/s \n",
            "\u001b[?25hCollecting smmap<6,>=3.0.1\n",
            "  Downloading smmap-5.0.0-py3-none-any.whl (24 kB)\n",
            "Requirement already satisfied: charset-normalizer<3,>=2 in /usr/local/lib/python3.7/dist-packages (from requests>=2.24.0->foolbox) (2.1.1)\n",
            "Requirement already satisfied: certifi>=2017.4.17 in /usr/local/lib/python3.7/dist-packages (from requests>=2.24.0->foolbox) (2022.9.24)\n",
            "Requirement already satisfied: urllib3<1.27,>=1.21.1 in /usr/local/lib/python3.7/dist-packages (from requests>=2.24.0->foolbox) (1.24.3)\n",
            "Requirement already satisfied: idna<4,>=2.5 in /usr/local/lib/python3.7/dist-packages (from requests>=2.24.0->foolbox) (2.10)\n",
            "Installing collected packages: smmap, gitdb, requests, GitPython, eagerpy, foolbox\n",
            "  Attempting uninstall: requests\n",
            "    Found existing installation: requests 2.23.0\n",
            "    Uninstalling requests-2.23.0:\n",
            "      Successfully uninstalled requests-2.23.0\n",
            "Successfully installed GitPython-3.1.29 eagerpy-0.30.0 foolbox-3.3.3 gitdb-4.0.9 requests-2.28.1 smmap-5.0.0\n"
          ]
        },
        {
          "output_type": "display_data",
          "data": {
            "application/vnd.colab-display-data+json": {
              "pip_warning": {
                "packages": [
                  "requests"
                ]
              }
            }
          },
          "metadata": {}
        }
      ],
      "source": [
        "!pip install foolbox"
      ]
    },
    {
      "cell_type": "code",
      "execution_count": null,
      "metadata": {
        "id": "BheJTjC8qh7J"
      },
      "outputs": [],
      "source": [
        "model_ft = model_ft.eval()"
      ]
    },
    {
      "cell_type": "code",
      "execution_count": null,
      "metadata": {
        "id": "FhBiWllHHJQx"
      },
      "outputs": [],
      "source": []
    },
    {
      "cell_type": "code",
      "execution_count": null,
      "metadata": {
        "id": "M7tsqZY9i5nI"
      },
      "outputs": [],
      "source": [
        "import foolbox as fb\n",
        "preprocessing = dict(mean=[0.485, 0.456, 0.406], std=[0.229, 0.224, 0.225], axis=1)\n",
        "bounds = (-5, 5)\n",
        "fmodel = fb.PyTorchModel(model_ft, bounds=bounds, preprocessing=None)"
      ]
    },
    {
      "cell_type": "code",
      "execution_count": null,
      "metadata": {
        "id": "mCLg1G5zgCLD"
      },
      "outputs": [],
      "source": [
        "def adversarial_Acc(clipped,labels,model_ft,images=None):\n",
        "    model_ft.eval()\n",
        "    correct = 0\n",
        "    total = 0\n",
        "    predicted_labels = []\n",
        "    \n",
        "    # since we're not training, we don't need to calculate the gradients for our outputs\n",
        "    with torch.no_grad():\n",
        "        i=0\n",
        "        for images_clipped,labels_clipped in (zip(clipped,labels)):\n",
        "            images_clipped = images_clipped.unsqueeze(0)\n",
        "            \n",
        "            if images != None:\n",
        "                original_images = images[i].unsqueeze(0)\n",
        "                images_clipped = images_clipped.to(device)\n",
        "                original_images = original_images.to(device)\n",
        "                outputs_original = model_ft(original_images)\n",
        "                _, predicted_original = torch.max(outputs_original.data, 1)\n",
        "                predicted_original = predicted_original.cpu()\n",
        "\n",
        "\n",
        "            label_clipped = labels[i]\n",
        "            # calculate outputs by running images through the network\n",
        "            outputs = model_ft(images_clipped)\n",
        "            # the class with the highest energy is what we choose as prediction\n",
        "            _, predicted = torch.max(outputs.data, 1)\n",
        "            predicted = predicted.cpu()\n",
        "            predicted_labels.append(predicted)\n",
        "            # print((predicted.item() == label_clipped.item()))\n",
        "            correct = correct + (predicted.item() == label_clipped.item())\n",
        "            i+=1\n",
        "    print(f'Accuracy of the network on the test images: {100 * (correct / i)} %')\n",
        "    if images is not None:\n",
        "        return predicted_labels, predicted_original, labels\n",
        "    else:\n",
        "        return predicted_labels, labels"
      ]
    },
    {
      "cell_type": "code",
      "execution_count": null,
      "metadata": {
        "id": "swJQEViicWlA"
      },
      "outputs": [],
      "source": [
        "# LinfDeepFool Attack on 2000 elements of the test set\n",
        "attack_deepfool = fb.attacks.LinfDeepFoolAttack()\n",
        "raw_df, clipped_df, is_adv_df = attack_deepfool(fmodel, all_test_X.to(device), all_test_labels.to(device),epsilons = 0.02)"
      ]
    },
    {
      "cell_type": "code",
      "source": [
        "predicted_adv_df, labels_adv_df = adversarial_Acc(clipped_df, all_test_labels,model_ft)"
      ],
      "metadata": {
        "id": "-uAqAAAUoQ0h",
        "colab": {
          "base_uri": "https://localhost:8080/"
        },
        "outputId": "ef32d2dc-bf09-41c0-d887-c8d9cbc8e59f"
      },
      "execution_count": null,
      "outputs": [
        {
          "output_type": "stream",
          "name": "stdout",
          "text": [
            "Accuracy of the network on the test images: 40.489999999999995 %\n"
          ]
        }
      ]
    },
    {
      "cell_type": "code",
      "execution_count": null,
      "metadata": {
        "id": "vt5xU70sepjM"
      },
      "outputs": [],
      "source": [
        "#FGSM Attack\n",
        "attack_fgsm = fb.attacks.FGSM()\n",
        "raw_fgsm, clipped_fgsm, is_adv_fgsm = attack_fgsm(fmodel, all_test_X.to(device),all_test_labels.to(device),epsilons=0.02) "
      ]
    },
    {
      "cell_type": "code",
      "source": [
        "predicted_adv_fgsm, labels_adv_fgsm = adversarial_Acc(clipped_fgsm, all_test_labels,model_ft)\n"
      ],
      "metadata": {
        "colab": {
          "base_uri": "https://localhost:8080/"
        },
        "id": "fAnFnLDLDrKo",
        "outputId": "ebad7fb7-7173-4757-cc6a-1e0be93ed9da"
      },
      "execution_count": null,
      "outputs": [
        {
          "output_type": "stream",
          "name": "stdout",
          "text": [
            "Accuracy of the network on the test images: 44.86 %\n"
          ]
        }
      ]
    },
    {
      "cell_type": "code",
      "source": [
        "predicted_adv_fgsm = torch.tensor(predicted_adv_fgsm)"
      ],
      "metadata": {
        "id": "xG_BDuK3EA-j"
      },
      "execution_count": null,
      "outputs": []
    },
    {
      "cell_type": "code",
      "source": [
        "predicted_adv_df = torch.tensor(predicted_adv_df)"
      ],
      "metadata": {
        "id": "bkq5J_oxFebk"
      },
      "execution_count": null,
      "outputs": []
    },
    {
      "cell_type": "code",
      "source": [
        "# np.save(\"/content/drive/MyDrive/Machine Perception Projects/clipped_df.npy\",clipped_df.cpu().numpy())\n",
        "# np.save(\"/content/drive/MyDrive/Machine Perception Projects/clipped_fgsm.npy\",clipped_fgsm.cpu().numpy())\n",
        "# np.save(\"/content/drive/MyDrive/Machine Perception Projects/predicted_adv_df.npy\",predicted_adv_df.cpu().numpy())\n",
        "# np.save(\"/content/drive/MyDrive/Machine Perception Projects/predicted_adv_fgsm.npy\",predicted_adv_fgsm.cpu().numpy())\n"
      ],
      "metadata": {
        "id": "dMGKLll1JtPC"
      },
      "execution_count": null,
      "outputs": []
    },
    {
      "cell_type": "markdown",
      "metadata": {
        "id": "oAPU9gTyk2D0"
      },
      "source": [
        "Adversarial Defense - Adding adversarial images from training set to training set"
      ]
    },
    {
      "cell_type": "code",
      "execution_count": null,
      "metadata": {
        "id": "vO0fWEUxnIHP"
      },
      "outputs": [],
      "source": [
        "#training a model on the train data along with the train data with added noise\n",
        "model_ft_defense = models.resnet18(pretrained=True)\n",
        "num_ftrs = model_ft_defense.fc.in_features\n",
        "# Here the size of each output sample is set to 2.\n",
        "# Alternatively, it can be generalized to nn.Linear(num_ftrs, len(class_names)).\n",
        "model_ft_defense.fc = nn.Linear(num_ftrs, 10)\n",
        "model_ft_defense = model_ft_defense.to(device)\n",
        "criterion_defense = nn.CrossEntropyLoss()\n",
        "\n",
        "# Observe that all parameters are being optimized\n",
        "# optimizer_defense1 = optim.RMSprop(model_ft_defense.parameters(), lr=0.01)\n",
        "optimizer_defense2 = optim.SGD(model_ft_defense.parameters(), lr=0.001, momentum=0.9)\n",
        "# optimizer_defense3 = optim.SGD(model_ft_defense.parameters(), lr=0.0001, momentum=0.9)\n"
      ]
    },
    {
      "cell_type": "code",
      "source": [
        "#training loop\n",
        "for epoch in range(10):  # loop over the dataset multiple times\n",
        "\n",
        "    running_loss = 0.0\n",
        "    for i, data in enumerate(trainloader_defense, 0):\n",
        "        # get the inputs; data is a list of [inputs, labels]\n",
        "        inputs, labels = data\n",
        "        inputs = inputs.to(device)\n",
        "        labels = labels.to(device)\n",
        "\n",
        "        # zero the parameter gradients\n",
        "        optimizer_defense2.zero_grad()\n",
        "\n",
        "        # forward + backward + optimize\n",
        "        outputs = model_ft_defense(inputs)\n",
        "        loss = criterion_defense(outputs, labels)\n",
        "        loss.backward()\n",
        "\n",
        "        optimizer_defense2.step()\n",
        "\n",
        "        # print statistics\n",
        "        running_loss += loss.item()\n",
        "        if i % 200 == 199:    # print every 2000 mini-batches\n",
        "            print(f'[{epoch + 1}, {i + 1:5d}] loss: {running_loss / 200:.3f}')\n",
        "            running_loss = 0.0\n",
        "\n",
        "print('Finished Training')"
      ],
      "metadata": {
        "colab": {
          "base_uri": "https://localhost:8080/"
        },
        "id": "fiW7WxpJONau",
        "outputId": "6a7e6664-8f66-46ec-9191-a52ad7d93d9f"
      },
      "execution_count": null,
      "outputs": [
        {
          "output_type": "stream",
          "name": "stdout",
          "text": [
            "[1,   200] loss: 0.471\n",
            "[1,   400] loss: 0.428\n",
            "[1,   600] loss: 0.416\n",
            "[1,   800] loss: 0.425\n",
            "[1,  1000] loss: 0.395\n",
            "[1,  1200] loss: 0.387\n",
            "[1,  1400] loss: 0.403\n",
            "[2,   200] loss: 0.320\n",
            "[2,   400] loss: 0.314\n",
            "[2,   600] loss: 0.336\n",
            "[2,   800] loss: 0.322\n",
            "[2,  1000] loss: 0.327\n",
            "[2,  1200] loss: 0.341\n",
            "[2,  1400] loss: 0.350\n",
            "[3,   200] loss: 0.280\n",
            "[3,   400] loss: 0.301\n",
            "[3,   600] loss: 0.298\n",
            "[3,   800] loss: 0.286\n",
            "[3,  1000] loss: 0.320\n",
            "[3,  1200] loss: 0.289\n",
            "[3,  1400] loss: 0.314\n",
            "[4,   200] loss: 0.268\n",
            "[4,   400] loss: 0.242\n",
            "[4,   600] loss: 0.270\n",
            "[4,   800] loss: 0.256\n",
            "[4,  1000] loss: 0.275\n",
            "[4,  1200] loss: 0.262\n",
            "[4,  1400] loss: 0.283\n",
            "[5,   200] loss: 0.218\n",
            "[5,   400] loss: 0.236\n",
            "[5,   600] loss: 0.263\n",
            "[5,   800] loss: 0.249\n",
            "[5,  1000] loss: 0.248\n",
            "[5,  1200] loss: 0.262\n",
            "[5,  1400] loss: 0.262\n",
            "[6,   200] loss: 0.210\n",
            "[6,   400] loss: 0.216\n",
            "[6,   600] loss: 0.228\n",
            "[6,   800] loss: 0.217\n",
            "[6,  1000] loss: 0.229\n",
            "[6,  1200] loss: 0.226\n",
            "[6,  1400] loss: 0.248\n",
            "[7,   200] loss: 0.184\n",
            "[7,   400] loss: 0.174\n",
            "[7,   600] loss: 0.218\n",
            "[7,   800] loss: 0.205\n",
            "[7,  1000] loss: 0.217\n",
            "[7,  1200] loss: 0.234\n",
            "[7,  1400] loss: 0.206\n",
            "[8,   200] loss: 0.183\n",
            "[8,   400] loss: 0.179\n",
            "[8,   600] loss: 0.182\n",
            "[8,   800] loss: 0.196\n",
            "[8,  1000] loss: 0.194\n",
            "[8,  1200] loss: 0.196\n",
            "[8,  1400] loss: 0.224\n",
            "[9,   200] loss: 0.161\n",
            "[9,   400] loss: 0.160\n",
            "[9,   600] loss: 0.164\n",
            "[9,   800] loss: 0.177\n",
            "[9,  1000] loss: 0.165\n",
            "[9,  1200] loss: 0.192\n",
            "[9,  1400] loss: 0.183\n",
            "[10,   200] loss: 0.153\n",
            "[10,   400] loss: 0.150\n",
            "[10,   600] loss: 0.167\n",
            "[10,   800] loss: 0.165\n",
            "[10,  1000] loss: 0.178\n",
            "[10,  1200] loss: 0.167\n",
            "[10,  1400] loss: 0.174\n",
            "Finished Training\n"
          ]
        }
      ]
    },
    {
      "cell_type": "code",
      "execution_count": null,
      "metadata": {
        "id": "-PTLqa7r1vj4"
      },
      "outputs": [],
      "source": [
        "torch.save(model_ft_defense.cpu().state_dict(), \"/content/drive/MyDrive/Machine Perception Projects/cifar_net_w_adv.pth\")"
      ]
    },
    {
      "cell_type": "code",
      "execution_count": null,
      "metadata": {
        "id": "PpgXSkbB2PmA"
      },
      "outputs": [],
      "source": [
        "model_t_defense = model_ft_defense.to(device)"
      ]
    },
    {
      "cell_type": "code",
      "execution_count": null,
      "metadata": {
        "colab": {
          "base_uri": "https://localhost:8080/"
        },
        "id": "GtWmRv7Z2F2H",
        "outputId": "33cec1d5-e436-48af-aa95-3ee0afcabf2c"
      },
      "outputs": [
        {
          "output_type": "stream",
          "name": "stdout",
          "text": [
            "Accuracy of the network on the 10000 test images: 81 %\n"
          ]
        }
      ],
      "source": [
        "#test the adversarial defense model on original test set\n",
        "correct = 0\n",
        "total = 0\n",
        "# since we're not training, we don't need to calculate the gradients for our outputs\n",
        "with torch.no_grad():\n",
        "    for data in testloader:\n",
        "        images, labels = data\n",
        "        images = images.to(device)\n",
        "        # calculate outputs by running images through the network\n",
        "        outputs = model_ft_defense(images)\n",
        "        # the class with the highest energy is what we choose as prediction\n",
        "        _, predicted = torch.max(outputs.data, 1)\n",
        "        total += labels.size(0)\n",
        "        predicted = predicted.cpu()\n",
        "        correct += (predicted == labels).sum().item()\n",
        "\n",
        "print(f'Accuracy of the network on the 10000 test images: {100 * correct // total} %')"
      ]
    },
    {
      "cell_type": "code",
      "source": [
        "#test the adversarial defense on the adversarial test set\n",
        "correct = 0\n",
        "total = 0\n",
        "# since we're not training, we don't need to calculate the gradients for our outputs\n",
        "with torch.no_grad():\n",
        "    for data in testloader_defense:\n",
        "        images, labels = data\n",
        "        images = images.to(device)\n",
        "        # calculate outputs by running images through the network\n",
        "        outputs = model_ft_defense(images)\n",
        "        # the class with the highest energy is what we choose as prediction\n",
        "        _, predicted = torch.max(outputs.data, 1)\n",
        "        total += labels.size(0)\n",
        "        predicted = predicted.cpu()\n",
        "        correct += (predicted == labels).sum().item()\n",
        "\n",
        "print(f'Accuracy of the network on the 10000 test images: {100 * correct // total} %')"
      ],
      "metadata": {
        "colab": {
          "base_uri": "https://localhost:8080/"
        },
        "id": "uE_JT0oryeRg",
        "outputId": "9e2ba08a-fcc6-4857-aada-a1b035f8942d"
      },
      "execution_count": null,
      "outputs": [
        {
          "output_type": "stream",
          "name": "stdout",
          "text": [
            "Accuracy of the network on the 10000 test images: 78 %\n"
          ]
        }
      ]
    },
    {
      "cell_type": "markdown",
      "source": [
        "Visualization"
      ],
      "metadata": {
        "id": "CaF-lzCxH0Vm"
      }
    },
    {
      "cell_type": "code",
      "execution_count": null,
      "metadata": {
        "id": "APhg8rCjHfWC"
      },
      "outputs": [],
      "source": [
        "means = torch.tensor([0.485, 0.456, 0.406]).view((3,1,1))\n",
        "vars = torch.tensor([0.229, 0.224, 0.225]).view((3,1,1))\n",
        "idx=16\n",
        "img_df = ((clipped_df[idx].cpu()*vars)+means).numpy().transpose((1,2,0))\n",
        "img_fgsm = ((clipped_df[idx].cpu()*vars)+means).numpy().transpose((1,2,0))\n",
        "img_ori = ((all_test_X[idx].cpu()*vars)+means).numpy().transpose((1,2,0))\n"
      ]
    },
    {
      "cell_type": "code",
      "execution_count": null,
      "metadata": {
        "id": "cvgaUUmsIN9O"
      },
      "outputs": [],
      "source": []
    },
    {
      "cell_type": "code",
      "execution_count": null,
      "metadata": {
        "colab": {
          "base_uri": "https://localhost:8080/",
          "height": 283
        },
        "id": "DR7HwgryIXnz",
        "outputId": "d861349b-96ac-423a-dba9-4c48c96a7141"
      },
      "outputs": [
        {
          "output_type": "stream",
          "name": "stdout",
          "text": [
            "dog\n"
          ]
        },
        {
          "output_type": "display_data",
          "data": {
            "text/plain": [
              "<Figure size 432x288 with 1 Axes>"
            ],
            "image/png": "[encoded data removed]"
          },
          "metadata": {
            "needs_background": "light"
          }
        }
      ],
      "source": [
        "plt.imshow(img_ori)\n",
        "print(classes[all_test_labels[idx].item()])"
      ]
    },
    {
      "cell_type": "code",
      "execution_count": null,
      "metadata": {
        "colab": {
          "base_uri": "https://localhost:8080/",
          "height": 301
        },
        "id": "LfOUs26pIB2W",
        "outputId": "a7ce71ad-88d9-4490-aa8c-3cbb25dedd31"
      },
      "outputs": [
        {
          "output_type": "stream",
          "name": "stderr",
          "text": [
            "WARNING:matplotlib.image:Clipping input data to the valid range for imshow with RGB data ([0..1] for floats or [0..255] for integers).\n"
          ]
        },
        {
          "output_type": "stream",
          "name": "stdout",
          "text": [
            "cat\n"
          ]
        },
        {
          "output_type": "display_data",
          "data": {
            "text/plain": [
              "<Figure size 432x288 with 1 Axes>"
            ],
            "image/png": "[encoded data removed]"
          },
          "metadata": {
            "needs_background": "light"
          }
        }
      ],
      "source": [
        "plt.imshow(img_df)\n",
        "print(classes[predicted_adv_df[idx].item()])"
      ]
    },
    {
      "cell_type": "code",
      "execution_count": null,
      "metadata": {
        "id": "3hWpAI5NwLQQ",
        "colab": {
          "base_uri": "https://localhost:8080/",
          "height": 301
        },
        "outputId": "3668c69e-8f42-45d5-f53b-9cece376ba0c"
      },
      "outputs": [
        {
          "output_type": "stream",
          "name": "stderr",
          "text": [
            "WARNING:matplotlib.image:Clipping input data to the valid range for imshow with RGB data ([0..1] for floats or [0..255] for integers).\n"
          ]
        },
        {
          "output_type": "stream",
          "name": "stdout",
          "text": [
            "cat\n"
          ]
        },
        {
          "output_type": "display_data",
          "data": {
            "text/plain": [
              "<Figure size 432x288 with 1 Axes>"
            ],
            "image/png": "[encoded data removed]"
          },
          "metadata": {
            "needs_background": "light"
          }
        }
      ],
      "source": [
        "plt.imshow(img_fgsm)\n",
        "print(classes[predicted_adv_fgsm[idx].item()])"
      ]
    },
    {
      "cell_type": "code",
      "source": [
        "plt.imshow(np.abs(img_ori - img_fgsm))"
      ],
      "metadata": {
        "colab": {
          "base_uri": "https://localhost:8080/",
          "height": 283
        },
        "id": "cDhOIUmDMmhr",
        "outputId": "fb7efb23-edcf-49b4-e413-854867473f03"
      },
      "execution_count": null,
      "outputs": [
        {
          "output_type": "execute_result",
          "data": {
            "text/plain": [
              "<matplotlib.image.AxesImage at 0x7f48ccd56650>"
            ]
          },
          "metadata": {},
          "execution_count": 131
        },
        {
          "output_type": "display_data",
          "data": {
            "text/plain": [
              "<Figure size 432x288 with 1 Axes>"
            ],
            "image/png": "[encoded data removed]"
          },
          "metadata": {
            "needs_background": "light"
          }
        }
      ]
    },
    {
      "cell_type": "code",
      "source": [
        "np.abs(img_ori - img_fgsm)"
      ],
      "metadata": {
        "colab": {
          "base_uri": "https://localhost:8080/"
        },
        "id": "HLwBj9oQPV0p",
        "outputId": "cea0b8ee-b2cd-4e24-fa76-d874d2d7ac12"
      },
      "execution_count": null,
      "outputs": [
        {
          "output_type": "execute_result",
          "data": {
            "text/plain": [
              "array([[[0.00100169, 0.00097981, 0.00098419],\n",
              "        [0.00100169, 0.00090665, 0.00091067],\n",
              "        [0.00100169, 0.00090665, 0.00091067],\n",
              "        ...,\n",
              "        [0.00092688, 0.00097981, 0.00098419],\n",
              "        [0.00100172, 0.00097978, 0.00091064],\n",
              "        [0.00100166, 0.00097984, 0.00098419]],\n",
              "\n",
              "       [[0.00092688, 0.00097981, 0.00098419],\n",
              "        [0.00100169, 0.00097981, 0.0009107 ],\n",
              "        [0.00100169, 0.00097981, 0.00098416],\n",
              "        ...,\n",
              "        [0.00100172, 0.00090662, 0.00098416],\n",
              "        [0.00100167, 0.00097981, 0.00098419],\n",
              "        [0.00100166, 0.00090665, 0.00098419]],\n",
              "\n",
              "       [[0.00100169, 0.00090665, 0.00098416],\n",
              "        [0.00100169, 0.00097981, 0.00098416],\n",
              "        [0.00100169, 0.00097981, 0.00098416],\n",
              "        ...,\n",
              "        [0.00100172, 0.00097981, 0.00098419],\n",
              "        [0.00100169, 0.00090665, 0.00098418],\n",
              "        [0.00092688, 0.00097978, 0.00098419]],\n",
              "\n",
              "       ...,\n",
              "\n",
              "       [[0.00100172, 0.00097984, 0.0009107 ],\n",
              "        [0.00100172, 0.00097978, 0.0009107 ],\n",
              "        [0.00100166, 0.00097978, 0.00098419],\n",
              "        ...,\n",
              "        [0.00100166, 0.00097978, 0.00098419],\n",
              "        [0.00100169, 0.00090665, 0.00098416],\n",
              "        [0.00100169, 0.00097981, 0.00098419]],\n",
              "\n",
              "       [[0.00100169, 0.00097981, 0.00098419],\n",
              "        [0.00100166, 0.00090665, 0.00098419],\n",
              "        [0.00100166, 0.00097978, 0.00098419],\n",
              "        ...,\n",
              "        [0.00100169, 0.00097981, 0.00098419],\n",
              "        [0.00100166, 0.00097981, 0.00091068],\n",
              "        [0.00100169, 0.00090665, 0.00098419]],\n",
              "\n",
              "       [[0.00100169, 0.00097981, 0.00098416],\n",
              "        [0.00100166, 0.00097978, 0.00098419],\n",
              "        [0.00100172, 0.00097978, 0.0009107 ],\n",
              "        ...,\n",
              "        [0.00100169, 0.00097981, 0.00098418],\n",
              "        [0.00100169, 0.00097981, 0.00098416],\n",
              "        [0.00100169, 0.00097981, 0.00098416]]], dtype=float32)"
            ]
          },
          "metadata": {},
          "execution_count": 132
        }
      ]
    }
  ],
  "metadata": {
    "accelerator": "GPU",
    "colab": {
      "provenance": []
    },
    "gpuClass": "standard",
    "kernelspec": {
      "display_name": "Python 3",
      "name": "python3"
    },
    "language_info": {
      "name": "python"
    },
    "widgets": {
      "application/vnd.jupyter.widget-state+json": {
        "d20c4b1287a8416fbf8ca7ab81384b1f": {
          "model_module": "@jupyter-widgets/controls",
          "model_name": "HBoxModel",
          "model_module_version": "1.5.0",
          "state": {
            "_dom_classes": [],
            "_model_module": "@jupyter-widgets/controls",
            "_model_module_version": "1.5.0",
            "_model_name": "HBoxModel",
            "_view_count": null,
            "_view_module": "@jupyter-widgets/controls",
            "_view_module_version": "1.5.0",
            "_view_name": "HBoxView",
            "box_style": "",
            "children": [
              "IPY_MODEL_8b05b3af46c543188cd694c6fa5553aa",
              "IPY_MODEL_f1c0f1bbd0f74c158a0a0b406f2d66bd",
              "IPY_MODEL_41481f7df06449ad92077a7e9261311f"
            ],
            "layout": "IPY_MODEL_99319b46aa344272aa723c797376cfb5"
          }
        },
        "8b05b3af46c543188cd694c6fa5553aa": {
          "model_module": "@jupyter-widgets/controls",
          "model_name": "HTMLModel",
          "model_module_version": "1.5.0",
          "state": {
            "_dom_classes": [],
            "_model_module": "@jupyter-widgets/controls",
            "_model_module_version": "1.5.0",
            "_model_name": "HTMLModel",
            "_view_count": null,
            "_view_module": "@jupyter-widgets/controls",
            "_view_module_version": "1.5.0",
            "_view_name": "HTMLView",
            "description": "",
            "description_tooltip": null,
            "layout": "IPY_MODEL_5ade711337c14b2c86c1b9a8a2271ffb",
            "placeholder": "​",
            "style": "IPY_MODEL_27bcc3eb48a74a0da960ede1dad54410",
            "value": "100%"
          }
        },
        "f1c0f1bbd0f74c158a0a0b406f2d66bd": {
          "model_module": "@jupyter-widgets/controls",
          "model_name": "FloatProgressModel",
          "model_module_version": "1.5.0",
          "state": {
            "_dom_classes": [],
            "_model_module": "@jupyter-widgets/controls",
            "_model_module_version": "1.5.0",
            "_model_name": "FloatProgressModel",
            "_view_count": null,
            "_view_module": "@jupyter-widgets/controls",
            "_view_module_version": "1.5.0",
            "_view_name": "ProgressView",
            "bar_style": "success",
            "description": "",
            "description_tooltip": null,
            "layout": "IPY_MODEL_5bd59ece4a7140078ad0cebb5ce0c0c8",
            "max": 170498071,
            "min": 0,
            "orientation": "horizontal",
            "style": "IPY_MODEL_c75be932a9994589a88fc1553033ce30",
            "value": 170498071
          }
        },
        "41481f7df06449ad92077a7e9261311f": {
          "model_module": "@jupyter-widgets/controls",
          "model_name": "HTMLModel",
          "model_module_version": "1.5.0",
          "state": {
            "_dom_classes": [],
            "_model_module": "@jupyter-widgets/controls",
            "_model_module_version": "1.5.0",
            "_model_name": "HTMLModel",
            "_view_count": null,
            "_view_module": "@jupyter-widgets/controls",
            "_view_module_version": "1.5.0",
            "_view_name": "HTMLView",
            "description": "",
            "description_tooltip": null,
            "layout": "IPY_MODEL_c2c3de25453544ffb692bcc60f6ea304",
            "placeholder": "​",
            "style": "IPY_MODEL_bfcb8292d68f49228e55d9e28e1fbba3",
            "value": " 170498071/170498071 [00:13&lt;00:00, 13708166.44it/s]"
          }
        },
        "99319b46aa344272aa723c797376cfb5": {
          "model_module": "@jupyter-widgets/base",
          "model_name": "LayoutModel",
          "model_module_version": "1.2.0",
          "state": {
            "_model_module": "@jupyter-widgets/base",
            "_model_module_version": "1.2.0",
            "_model_name": "LayoutModel",
            "_view_count": null,
            "_view_module": "@jupyter-widgets/base",
            "_view_module_version": "1.2.0",
            "_view_name": "LayoutView",
            "align_content": null,
            "align_items": null,
            "align_self": null,
            "border": null,
            "bottom": null,
            "display": null,
            "flex": null,
            "flex_flow": null,
            "grid_area": null,
            "grid_auto_columns": null,
            "grid_auto_flow": null,
            "grid_auto_rows": null,
            "grid_column": null,
            "grid_gap": null,
            "grid_row": null,
            "grid_template_areas": null,
            "grid_template_columns": null,
            "grid_template_rows": null,
            "height": null,
            "justify_content": null,
            "justify_items": null,
            "left": null,
            "margin": null,
            "max_height": null,
            "max_width": null,
            "min_height": null,
            "min_width": null,
            "object_fit": null,
            "object_position": null,
            "order": null,
            "overflow": null,
            "overflow_x": null,
            "overflow_y": null,
            "padding": null,
            "right": null,
            "top": null,
            "visibility": null,
            "width": null
          }
        },
        "5ade711337c14b2c86c1b9a8a2271ffb": {
          "model_module": "@jupyter-widgets/base",
          "model_name": "LayoutModel",
          "model_module_version": "1.2.0",
          "state": {
            "_model_module": "@jupyter-widgets/base",
            "_model_module_version": "1.2.0",
            "_model_name": "LayoutModel",
            "_view_count": null,
            "_view_module": "@jupyter-widgets/base",
            "_view_module_version": "1.2.0",
            "_view_name": "LayoutView",
            "align_content": null,
            "align_items": null,
            "align_self": null,
            "border": null,
            "bottom": null,
            "display": null,
            "flex": null,
            "flex_flow": null,
            "grid_area": null,
            "grid_auto_columns": null,
            "grid_auto_flow": null,
            "grid_auto_rows": null,
            "grid_column": null,
            "grid_gap": null,
            "grid_row": null,
            "grid_template_areas": null,
            "grid_template_columns": null,
            "grid_template_rows": null,
            "height": null,
            "justify_content": null,
            "justify_items": null,
            "left": null,
            "margin": null,
            "max_height": null,
            "max_width": null,
            "min_height": null,
            "min_width": null,
            "object_fit": null,
            "object_position": null,
            "order": null,
            "overflow": null,
            "overflow_x": null,
            "overflow_y": null,
            "padding": null,
            "right": null,
            "top": null,
            "visibility": null,
            "width": null
          }
        },
        "27bcc3eb48a74a0da960ede1dad54410": {
          "model_module": "@jupyter-widgets/controls",
          "model_name": "DescriptionStyleModel",
          "model_module_version": "1.5.0",
          "state": {
            "_model_module": "@jupyter-widgets/controls",
            "_model_module_version": "1.5.0",
            "_model_name": "DescriptionStyleModel",
            "_view_count": null,
            "_view_module": "@jupyter-widgets/base",
            "_view_module_version": "1.2.0",
            "_view_name": "StyleView",
            "description_width": ""
          }
        },
        "5bd59ece4a7140078ad0cebb5ce0c0c8": {
          "model_module": "@jupyter-widgets/base",
          "model_name": "LayoutModel",
          "model_module_version": "1.2.0",
          "state": {
            "_model_module": "@jupyter-widgets/base",
            "_model_module_version": "1.2.0",
            "_model_name": "LayoutModel",
            "_view_count": null,
            "_view_module": "@jupyter-widgets/base",
            "_view_module_version": "1.2.0",
            "_view_name": "LayoutView",
            "align_content": null,
            "align_items": null,
            "align_self": null,
            "border": null,
            "bottom": null,
            "display": null,
            "flex": null,
            "flex_flow": null,
            "grid_area": null,
            "grid_auto_columns": null,
            "grid_auto_flow": null,
            "grid_auto_rows": null,
            "grid_column": null,
            "grid_gap": null,
            "grid_row": null,
            "grid_template_areas": null,
            "grid_template_columns": null,
            "grid_template_rows": null,
            "height": null,
            "justify_content": null,
            "justify_items": null,
            "left": null,
            "margin": null,
            "max_height": null,
            "max_width": null,
            "min_height": null,
            "min_width": null,
            "object_fit": null,
            "object_position": null,
            "order": null,
            "overflow": null,
            "overflow_x": null,
            "overflow_y": null,
            "padding": null,
            "right": null,
            "top": null,
            "visibility": null,
            "width": null
          }
        },
        "c75be932a9994589a88fc1553033ce30": {
          "model_module": "@jupyter-widgets/controls",
          "model_name": "ProgressStyleModel",
          "model_module_version": "1.5.0",
          "state": {
            "_model_module": "@jupyter-widgets/controls",
            "_model_module_version": "1.5.0",
            "_model_name": "ProgressStyleModel",
            "_view_count": null,
            "_view_module": "@jupyter-widgets/base",
            "_view_module_version": "1.2.0",
            "_view_name": "StyleView",
            "bar_color": null,
            "description_width": ""
          }
        },
        "c2c3de25453544ffb692bcc60f6ea304": {
          "model_module": "@jupyter-widgets/base",
          "model_name": "LayoutModel",
          "model_module_version": "1.2.0",
          "state": {
            "_model_module": "@jupyter-widgets/base",
            "_model_module_version": "1.2.0",
            "_model_name": "LayoutModel",
            "_view_count": null,
            "_view_module": "@jupyter-widgets/base",
            "_view_module_version": "1.2.0",
            "_view_name": "LayoutView",
            "align_content": null,
            "align_items": null,
            "align_self": null,
            "border": null,
            "bottom": null,
            "display": null,
            "flex": null,
            "flex_flow": null,
            "grid_area": null,
            "grid_auto_columns": null,
            "grid_auto_flow": null,
            "grid_auto_rows": null,
            "grid_column": null,
            "grid_gap": null,
            "grid_row": null,
            "grid_template_areas": null,
            "grid_template_columns": null,
            "grid_template_rows": null,
            "height": null,
            "justify_content": null,
            "justify_items": null,
            "left": null,
            "margin": null,
            "max_height": null,
            "max_width": null,
            "min_height": null,
            "min_width": null,
            "object_fit": null,
            "object_position": null,
            "order": null,
            "overflow": null,
            "overflow_x": null,
            "overflow_y": null,
            "padding": null,
            "right": null,
            "top": null,
            "visibility": null,
            "width": null
          }
        },
        "bfcb8292d68f49228e55d9e28e1fbba3": {
          "model_module": "@jupyter-widgets/controls",
          "model_name": "DescriptionStyleModel",
          "model_module_version": "1.5.0",
          "state": {
            "_model_module": "@jupyter-widgets/controls",
            "_model_module_version": "1.5.0",
            "_model_name": "DescriptionStyleModel",
            "_view_count": null,
            "_view_module": "@jupyter-widgets/base",
            "_view_module_version": "1.2.0",
            "_view_name": "StyleView",
            "description_width": ""
          }
        },
        "c97b297c5d854418a4db0f474086e3b3": {
          "model_module": "@jupyter-widgets/controls",
          "model_name": "HBoxModel",
          "model_module_version": "1.5.0",
          "state": {
            "_dom_classes": [],
            "_model_module": "@jupyter-widgets/controls",
            "_model_module_version": "1.5.0",
            "_model_name": "HBoxModel",
            "_view_count": null,
            "_view_module": "@jupyter-widgets/controls",
            "_view_module_version": "1.5.0",
            "_view_name": "HBoxView",
            "box_style": "",
            "children": [
              "IPY_MODEL_8a2d224584344e948b518a9c35af02da",
              "IPY_MODEL_dde9c0176b3640e59479ff78c5f055cf",
              "IPY_MODEL_e71a73c94d9b4139b2078293d9286d3d"
            ],
            "layout": "IPY_MODEL_9d803e96a7d8438a95959349b1cc29a5"
          }
        },
        "8a2d224584344e948b518a9c35af02da": {
          "model_module": "@jupyter-widgets/controls",
          "model_name": "HTMLModel",
          "model_module_version": "1.5.0",
          "state": {
            "_dom_classes": [],
            "_model_module": "@jupyter-widgets/controls",
            "_model_module_version": "1.5.0",
            "_model_name": "HTMLModel",
            "_view_count": null,
            "_view_module": "@jupyter-widgets/controls",
            "_view_module_version": "1.5.0",
            "_view_name": "HTMLView",
            "description": "",
            "description_tooltip": null,
            "layout": "IPY_MODEL_10ec61c22bbd4fafa32727fd69ff7d94",
            "placeholder": "​",
            "style": "IPY_MODEL_bed99b4f354944e69186385e248a809e",
            "value": "100%"
          }
        },
        "dde9c0176b3640e59479ff78c5f055cf": {
          "model_module": "@jupyter-widgets/controls",
          "model_name": "FloatProgressModel",
          "model_module_version": "1.5.0",
          "state": {
            "_dom_classes": [],
            "_model_module": "@jupyter-widgets/controls",
            "_model_module_version": "1.5.0",
            "_model_name": "FloatProgressModel",
            "_view_count": null,
            "_view_module": "@jupyter-widgets/controls",
            "_view_module_version": "1.5.0",
            "_view_name": "ProgressView",
            "bar_style": "success",
            "description": "",
            "description_tooltip": null,
            "layout": "IPY_MODEL_fb0aa2852a5046c19c6202c2e817caf0",
            "max": 46830571,
            "min": 0,
            "orientation": "horizontal",
            "style": "IPY_MODEL_7fd441122d244991ba1af54ffafce42a",
            "value": 46830571
          }
        },
        "e71a73c94d9b4139b2078293d9286d3d": {
          "model_module": "@jupyter-widgets/controls",
          "model_name": "HTMLModel",
          "model_module_version": "1.5.0",
          "state": {
            "_dom_classes": [],
            "_model_module": "@jupyter-widgets/controls",
            "_model_module_version": "1.5.0",
            "_model_name": "HTMLModel",
            "_view_count": null,
            "_view_module": "@jupyter-widgets/controls",
            "_view_module_version": "1.5.0",
            "_view_name": "HTMLView",
            "description": "",
            "description_tooltip": null,
            "layout": "IPY_MODEL_742849e4c48445e08a3394a40131a256",
            "placeholder": "​",
            "style": "IPY_MODEL_f4aa545f924f4a878692f26eee441a33",
            "value": " 44.7M/44.7M [00:00&lt;00:00, 219MB/s]"
          }
        },
        "9d803e96a7d8438a95959349b1cc29a5": {
          "model_module": "@jupyter-widgets/base",
          "model_name": "LayoutModel",
          "model_module_version": "1.2.0",
          "state": {
            "_model_module": "@jupyter-widgets/base",
            "_model_module_version": "1.2.0",
            "_model_name": "LayoutModel",
            "_view_count": null,
            "_view_module": "@jupyter-widgets/base",
            "_view_module_version": "1.2.0",
            "_view_name": "LayoutView",
            "align_content": null,
            "align_items": null,
            "align_self": null,
            "border": null,
            "bottom": null,
            "display": null,
            "flex": null,
            "flex_flow": null,
            "grid_area": null,
            "grid_auto_columns": null,
            "grid_auto_flow": null,
            "grid_auto_rows": null,
            "grid_column": null,
            "grid_gap": null,
            "grid_row": null,
            "grid_template_areas": null,
            "grid_template_columns": null,
            "grid_template_rows": null,
            "height": null,
            "justify_content": null,
            "justify_items": null,
            "left": null,
            "margin": null,
            "max_height": null,
            "max_width": null,
            "min_height": null,
            "min_width": null,
            "object_fit": null,
            "object_position": null,
            "order": null,
            "overflow": null,
            "overflow_x": null,
            "overflow_y": null,
            "padding": null,
            "right": null,
            "top": null,
            "visibility": null,
            "width": null
          }
        },
        "10ec61c22bbd4fafa32727fd69ff7d94": {
          "model_module": "@jupyter-widgets/base",
          "model_name": "LayoutModel",
          "model_module_version": "1.2.0",
          "state": {
            "_model_module": "@jupyter-widgets/base",
            "_model_module_version": "1.2.0",
            "_model_name": "LayoutModel",
            "_view_count": null,
            "_view_module": "@jupyter-widgets/base",
            "_view_module_version": "1.2.0",
            "_view_name": "LayoutView",
            "align_content": null,
            "align_items": null,
            "align_self": null,
            "border": null,
            "bottom": null,
            "display": null,
            "flex": null,
            "flex_flow": null,
            "grid_area": null,
            "grid_auto_columns": null,
            "grid_auto_flow": null,
            "grid_auto_rows": null,
            "grid_column": null,
            "grid_gap": null,
            "grid_row": null,
            "grid_template_areas": null,
            "grid_template_columns": null,
            "grid_template_rows": null,
            "height": null,
            "justify_content": null,
            "justify_items": null,
            "left": null,
            "margin": null,
            "max_height": null,
            "max_width": null,
            "min_height": null,
            "min_width": null,
            "object_fit": null,
            "object_position": null,
            "order": null,
            "overflow": null,
            "overflow_x": null,
            "overflow_y": null,
            "padding": null,
            "right": null,
            "top": null,
            "visibility": null,
            "width": null
          }
        },
        "bed99b4f354944e69186385e248a809e": {
          "model_module": "@jupyter-widgets/controls",
          "model_name": "DescriptionStyleModel",
          "model_module_version": "1.5.0",
          "state": {
            "_model_module": "@jupyter-widgets/controls",
            "_model_module_version": "1.5.0",
            "_model_name": "DescriptionStyleModel",
            "_view_count": null,
            "_view_module": "@jupyter-widgets/base",
            "_view_module_version": "1.2.0",
            "_view_name": "StyleView",
            "description_width": ""
          }
        },
        "fb0aa2852a5046c19c6202c2e817caf0": {
          "model_module": "@jupyter-widgets/base",
          "model_name": "LayoutModel",
          "model_module_version": "1.2.0",
          "state": {
            "_model_module": "@jupyter-widgets/base",
            "_model_module_version": "1.2.0",
            "_model_name": "LayoutModel",
            "_view_count": null,
            "_view_module": "@jupyter-widgets/base",
            "_view_module_version": "1.2.0",
            "_view_name": "LayoutView",
            "align_content": null,
            "align_items": null,
            "align_self": null,
            "border": null,
            "bottom": null,
            "display": null,
            "flex": null,
            "flex_flow": null,
            "grid_area": null,
            "grid_auto_columns": null,
            "grid_auto_flow": null,
            "grid_auto_rows": null,
            "grid_column": null,
            "grid_gap": null,
            "grid_row": null,
            "grid_template_areas": null,
            "grid_template_columns": null,
            "grid_template_rows": null,
            "height": null,
            "justify_content": null,
            "justify_items": null,
            "left": null,
            "margin": null,
            "max_height": null,
            "max_width": null,
            "min_height": null,
            "min_width": null,
            "object_fit": null,
            "object_position": null,
            "order": null,
            "overflow": null,
            "overflow_x": null,
            "overflow_y": null,
            "padding": null,
            "right": null,
            "top": null,
            "visibility": null,
            "width": null
          }
        },
        "7fd441122d244991ba1af54ffafce42a": {
          "model_module": "@jupyter-widgets/controls",
          "model_name": "ProgressStyleModel",
          "model_module_version": "1.5.0",
          "state": {
            "_model_module": "@jupyter-widgets/controls",
            "_model_module_version": "1.5.0",
            "_model_name": "ProgressStyleModel",
            "_view_count": null,
            "_view_module": "@jupyter-widgets/base",
            "_view_module_version": "1.2.0",
            "_view_name": "StyleView",
            "bar_color": null,
            "description_width": ""
          }
        },
        "742849e4c48445e08a3394a40131a256": {
          "model_module": "@jupyter-widgets/base",
          "model_name": "LayoutModel",
          "model_module_version": "1.2.0",
          "state": {
            "_model_module": "@jupyter-widgets/base",
            "_model_module_version": "1.2.0",
            "_model_name": "LayoutModel",
            "_view_count": null,
            "_view_module": "@jupyter-widgets/base",
            "_view_module_version": "1.2.0",
            "_view_name": "LayoutView",
            "align_content": null,
            "align_items": null,
            "align_self": null,
            "border": null,
            "bottom": null,
            "display": null,
            "flex": null,
            "flex_flow": null,
            "grid_area": null,
            "grid_auto_columns": null,
            "grid_auto_flow": null,
            "grid_auto_rows": null,
            "grid_column": null,
            "grid_gap": null,
            "grid_row": null,
            "grid_template_areas": null,
            "grid_template_columns": null,
            "grid_template_rows": null,
            "height": null,
            "justify_content": null,
            "justify_items": null,
            "left": null,
            "margin": null,
            "max_height": null,
            "max_width": null,
            "min_height": null,
            "min_width": null,
            "object_fit": null,
            "object_position": null,
            "order": null,
            "overflow": null,
            "overflow_x": null,
            "overflow_y": null,
            "padding": null,
            "right": null,
            "top": null,
            "visibility": null,
            "width": null
          }
        },
        "f4aa545f924f4a878692f26eee441a33": {
          "model_module": "@jupyter-widgets/controls",
          "model_name": "DescriptionStyleModel",
          "model_module_version": "1.5.0",
          "state": {
            "_model_module": "@jupyter-widgets/controls",
            "_model_module_version": "1.5.0",
            "_model_name": "DescriptionStyleModel",
            "_view_count": null,
            "_view_module": "@jupyter-widgets/base",
            "_view_module_version": "1.2.0",
            "_view_name": "StyleView",
            "description_width": ""
          }
        }
      }
    }
  },
  "nbformat": 4,
  "nbformat_minor": 0
}